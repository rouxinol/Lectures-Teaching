{
 "cells": [
  {
   "cell_type": "markdown",
   "metadata": {},
   "source": [
    "# Interactive plot to study Derivatives"
   ]
  },
  {
   "cell_type": "code",
   "execution_count": 1,
   "metadata": {
    "collapsed": true
   },
   "outputs": [],
   "source": [
    "\n",
    "\n",
    "from ipywidgets import *\n",
    "import numpy as np\n",
    "import matplotlib.pyplot as plt\n",
    "%matplotlib inline"
   ]
  },
  {
   "cell_type": "code",
   "execution_count": 2,
   "metadata": {
    "collapsed": false,
    "deletable": true,
    "editable": true
   },
   "outputs": [
    {
     "data": {
      "application/vnd.jupyter.widget-view+json": {
       "model_id": "385dd0c3e0eb4d8d902fdea430a459b1"
      }
     },
     "metadata": {},
     "output_type": "display_data"
    }
   ],
   "source": [
    "IntSlider()\n"
   ]
  },
  {
   "cell_type": "code",
   "execution_count": 3,
   "metadata": {
    "collapsed": false,
    "deletable": true,
    "editable": true
   },
   "outputs": [
    {
     "data": {
      "application/vnd.jupyter.widget-view+json": {
       "model_id": "424faaaf29ba4abf99feb9357050ef98"
      }
     },
     "metadata": {},
     "output_type": "display_data"
    }
   ],
   "source": [
    "from IPython.display import display\n",
    "w = IntSlider()\n",
    "display(w,)"
   ]
  },
  {
   "cell_type": "code",
   "execution_count": 4,
   "metadata": {
    "collapsed": false,
    "deletable": true,
    "editable": true
   },
   "outputs": [],
   "source": [
    "import ipywidgets as widgets\n",
    "# sorted(widgets.Widget.widget_types)"
   ]
  },
  {
   "cell_type": "code",
   "execution_count": 5,
   "metadata": {
    "collapsed": false
   },
   "outputs": [],
   "source": [
    "a = widgets.ToggleButtons(\n",
    "    options=['Slow', 'Regular', 'Fast'],\n",
    "    description='Speed:',\n",
    "    disabled=False,\n",
    "    button_style='', # 'success', 'info', 'warning', 'danger' or ''\n",
    "    tooltip='Description',\n",
    "#     icon='check'\n",
    ")"
   ]
  },
  {
   "cell_type": "code",
   "execution_count": 6,
   "metadata": {
    "collapsed": false
   },
   "outputs": [
    {
     "data": {
      "application/vnd.jupyter.widget-view+json": {
       "model_id": "20aa9b9b4f5d4a45ae7788dc8d5d9cd8"
      }
     },
     "metadata": {},
     "output_type": "display_data"
    }
   ],
   "source": [
    "b1 = widgets.Checkbox(description='Custom color')\n",
    "# b1.style.button_color = 'lightgreen'\n",
    "b1"
   ]
  },
  {
   "cell_type": "markdown",
   "metadata": {
    "deletable": true,
    "editable": true
   },
   "source": [
    "$$\n",
    "h\\left(x\\right)=g\\left(a\\right)x\\ +\\left(f\\left(a\\right)-g\\left(a\\right)a\\right)\n",
    "$$"
   ]
  },
  {
   "cell_type": "code",
   "execution_count": 25,
   "metadata": {
    "collapsed": false,
    "deletable": true,
    "editable": true
   },
   "outputs": [],
   "source": [
    "x_min = -2\n",
    "x_max = - x_min\n",
    "x = np.linspace(x_min, x_max, num=100)\n",
    "# w = np.linspace(-20,20)\n",
    "\n",
    "# define fuction\n",
    "def f(x): return (10 * x**3 + 12 * x**2 + 15 * x**1)\n",
    "\n",
    "# define derivative\n",
    "def g(x): return (10* 3 * x**2 + 12 * 2 * x**1 + 15 * x )\n",
    "\n",
    "\n",
    "def h(x,y):\n",
    "    if x==y: \n",
    "        return g(x)\n",
    "    else:\n",
    "        return ((f(x)-f(y))/(x-y))"
   ]
  },
  {
   "cell_type": "code",
   "execution_count": 26,
   "metadata": {
    "collapsed": false
   },
   "outputs": [
    {
     "data": {
      "image/png": "[encoded data removed]",
      "text/plain": [
       "<matplotlib.figure.Figure at 0x7feba9e98550>"
      ]
     },
     "metadata": {},
     "output_type": "display_data"
    }
   ],
   "source": [
    "fig = plt.figure(figsize=(16,8))\n",
    "ax = fig.add_subplot(1, 1, 1)\n",
    "ax.plot(x, f(x),'-', color= 'black')\n",
    "ax.plot(x, g(x),'-', color= 'red')\n",
    "ymin, ymax = ax.get_ylim()\n",
    "# print(ymin, ymax)"
   ]
  },
  {
   "cell_type": "code",
   "execution_count": null,
   "metadata": {
    "collapsed": true
   },
   "outputs": [],
   "source": []
  },
  {
   "cell_type": "code",
   "execution_count": 27,
   "metadata": {
    "collapsed": false,
    "deletable": true,
    "editable": true,
    "scrolled": false
   },
   "outputs": [
    {
     "data": {
      "application/vnd.jupyter.widget-view+json": {
       "model_id": "8df328a401f0458eb8e8e66f36bd622f"
      }
     },
     "metadata": {},
     "output_type": "display_data"
    }
   ],
   "source": [
    "\n",
    "def update(w = 0):\n",
    "    fig = plt.figure(figsize=(16,8))\n",
    "    ax = fig.add_subplot(1, 1, 1)\n",
    "    plt.xlim(x_min,x_max)\n",
    "    \n",
    "    plt.ylim(ymin,ymax)\n",
    "    plt.vlines(0,ymin,ymax)\n",
    "    plt.hlines(0,x_min,x_max)\n",
    "    value_f = r'$f(x)=$' + str(f(w))\n",
    "    ax.plot(x, f(x),'-', color= 'black', label=value_f)\n",
    "    \n",
    "    ax.plot(w,f(w),'o',color='green')\n",
    "    ax.plot(x, g(w)* x + f(w)-g(w)*w )\n",
    "    value_g = r'$g(x)=$' + str(g(w))\n",
    "    ax.plot(x,g(x),color=\"red\", label=value_g)\n",
    "    ax.plot(w,g(w),'o')\n",
    "    plt.legend()\n",
    "    \n",
    "    \n",
    "    \n",
    "    \n",
    "#     ax.plot(x, g\n",
    "    fig.canvas.draw()\n",
    "    plt.show()\n",
    "interact(update, w=(x_min,x_max,0.1) , a = True );\n"
   ]
  },
  {
   "cell_type": "code",
   "execution_count": 31,
   "metadata": {
    "collapsed": false,
    "deletable": true,
    "editable": true,
    "scrolled": false
   },
   "outputs": [
    {
     "data": {
      "application/vnd.jupyter.widget-view+json": {
       "model_id": "6e958e71bd7b44e482df0a061f8a8a8d"
      }
     },
     "metadata": {},
     "output_type": "display_data"
    }
   ],
   "source": [
    "def update(w = 1, z=0, a = True, b = True):\n",
    "    \n",
    "\n",
    "    \n",
    "    fig = plt.figure(figsize=(16,8))\n",
    "    ax = fig.add_subplot(1, 1, 1)\n",
    "    plt.xlim(x_min,x_max)\n",
    "    \n",
    "    plt.ylim(ymin,ymax)\n",
    "    plt.vlines(0,ymin,ymax)\n",
    "    plt.hlines(0,x_min,x_max)\n",
    "    \n",
    "\n",
    "    \n",
    "    if a == True: ax.plot(x, f(x),'-', color= 'black', label=r'$f(x)=$' + str(f(w)), linewidth=3)\n",
    "        \n",
    "        \n",
    "    ax.plot(w,f(w),'o',color='green')\n",
    "#     ax.plot(x, g(w)* x + f(w)-g(w)*w )\n",
    "    ax.plot(x,  f(w) + g(w)*(x-w) )\n",
    "\n",
    "    if b == True: ax.plot(x,g(x),color=\"red\", label= r'$g(x)=$' + str(g(w)),linewidth=3)\n",
    "        \n",
    "    ax.plot(w,g(w),'o', color='blue')\n",
    "    ax.plot(z,f(z),'o', color='yellow')\n",
    "    \n",
    "    ax.plot(x, f(w) + h(w,z)*(x-w),linewidth=3)\n",
    "    \n",
    "    \n",
    "    \n",
    "    \n",
    "    \n",
    "#     ax.plot(x, g\n",
    "    fig.canvas.draw()\n",
    "    plt.show()\n",
    "#     plt.legend()\n",
    "\n",
    "    \n",
    "interact(update, w=(x_min,x_max,0.1), z=(x_min,x_max,0.1),\n",
    "         a = widgets.Checkbox(value=True ,description='$f(x)$'),\n",
    "         b = widgets.Checkbox(value=True ,description='$f\\'(x)$'));\n",
    "# a = widgets.HBox(description = \"Test\")\n",
    "# display(a)"
   ]
  },
  {
   "cell_type": "code",
   "execution_count": null,
   "metadata": {
    "collapsed": true,
    "deletable": true,
    "editable": true
   },
   "outputs": [],
   "source": []
  },
  {
   "cell_type": "code",
   "execution_count": null,
   "metadata": {
    "collapsed": true
   },
   "outputs": [],
   "source": []
  },
  {
   "cell_type": "code",
   "execution_count": null,
   "metadata": {
    "collapsed": true
   },
   "outputs": [],
   "source": []
  }
 ],
 "metadata": {
  "kernelspec": {
   "display_name": "Python 3",
   "language": "python",
   "name": "python3"
  },
  "language_info": {
   "codemirror_mode": {
    "name": "ipython",
    "version": 3
   },
   "file_extension": ".py",
   "mimetype": "text/x-python",
   "name": "python",
   "nbconvert_exporter": "python",
   "pygments_lexer": "ipython3",
   "version": "3.5.2"
  }
 },
 "nbformat": 4,
 "nbformat_minor": 0
}
